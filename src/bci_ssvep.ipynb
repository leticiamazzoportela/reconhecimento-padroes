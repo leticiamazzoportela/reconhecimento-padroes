{
 "cells": [
  {
   "cell_type": "code",
   "execution_count": null,
   "metadata": {},
   "outputs": [],
   "source": []
  },
  {
   "cell_type": "code",
   "execution_count": 5,
   "metadata": {},
   "outputs": [
    {
     "name": "stdout",
     "output_type": "stream",
     "text": [
      "Dataset já baixado!\n"
     ]
    }
   ],
   "source": [
    "from urllib.request import urlopen, urlretrieve\n",
    "import os\n",
    "\n",
    "\n",
    "urls = {\n",
    "    'ssvep': 'https://archive.ics.uci.edu/ml/machine-learning-databases/00457/BCI-SSVEP_Database_Aceves.zip'\n",
    "}\n",
    "\n",
    "# verifica se o diretório dos datasets existe\n",
    "if not os.path.exists('dataset_ssvep/'):\n",
    "    os.mkdir('dataset_ssvep/')\n",
    "    for k, v in urls.items():\n",
    "        fn = v.split('/')[-1]\n",
    "        print('Baixando:', fn, '...')\n",
    "        urlretrieve(v, './dataset_ssvep/{}'.format(fn))\n",
    "    print('Downlod do dataset concluído!')\n",
    "else:\n",
    "    print('Dataset já baixado!')"
   ]
  },
  {
   "cell_type": "code",
   "execution_count": 6,
   "metadata": {},
   "outputs": [
    {
     "name": "stdout",
     "output_type": "stream",
     "text": [
      "Descompactação já realizada anteriormente!\n"
     ]
    }
   ],
   "source": [
    "import zipfile\n",
    "import os\n",
    "\n",
    "if not os.path.exists('dataset_ssvep/BCI-SSVEP_Database_Aceves/'):\n",
    "    zip_ref = zipfile.ZipFile('dataset_ssvep/BCI-SSVEP_Database_Aceves.zip', 'r')\n",
    "    zip_ref.extractall('dataset_ssvep/BCI-SSVEP_Database_Aceves/')\n",
    "    zip_ref.close()\n",
    "    print('Descompactação finalizada!')\n",
    "else:\n",
    "    print('Descompactação já realizada anteriormente!')"
   ]
  },
  {
   "cell_type": "code",
   "execution_count": null,
   "metadata": {},
   "outputs": [],
   "source": [
    "#proximo passo: ler e preparar algum arquivo .csv da base e aplicar funções de filtros "
   ]
  },
  {
   "cell_type": "code",
   "execution_count": null,
   "metadata": {},
   "outputs": [],
   "source": []
  }
 ],
 "metadata": {
  "kernelspec": {
   "display_name": "Python 3",
   "language": "python",
   "name": "python3"
  },
  "language_info": {
   "codemirror_mode": {
    "name": "ipython",
    "version": 3
   },
   "file_extension": ".py",
   "mimetype": "text/x-python",
   "name": "python",
   "nbconvert_exporter": "python",
   "pygments_lexer": "ipython3",
   "version": "3.6.7"
  }
 },
 "nbformat": 4,
 "nbformat_minor": 2
}
