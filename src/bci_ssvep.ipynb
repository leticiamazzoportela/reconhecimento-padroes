{
 "cells": [
  {
   "cell_type": "markdown",
   "metadata": {},
   "source": [
    "### Carregando dataset"
   ]
  },
  {
   "cell_type": "code",
   "execution_count": 1,
   "metadata": {},
   "outputs": [
    {
     "name": "stdout",
     "output_type": "stream",
     "text": [
      "Baixando: BCI-SSVEP_Database_Aceves.zip ...\n",
      "Downlod do dataset concluído!\n"
     ]
    }
   ],
   "source": [
    "from urllib.request import urlopen, urlretrieve\n",
    "import os\n",
    "\n",
    "urls = {\n",
    "    'ssvep': 'https://archive.ics.uci.edu/ml/machine-learning-databases/00457/BCI-SSVEP_Database_Aceves.zip'\n",
    "}\n",
    "\n",
    "# verifica se o diretório dos datasets existe\n",
    "if not os.path.exists('dataset_ssvep/'):\n",
    "    os.mkdir('dataset_ssvep/')\n",
    "    for k, v in urls.items():\n",
    "        fn = v.split('/')[-1]\n",
    "        print('Baixando:', fn, '...')\n",
    "        urlretrieve(v, './dataset_ssvep/{}'.format(fn))\n",
    "    print('Downlod do dataset concluído!')\n",
    "else:\n",
    "    print('Dataset já baixado!')"
   ]
  },
  {
   "cell_type": "code",
   "execution_count": 2,
   "metadata": {},
   "outputs": [
    {
     "name": "stdout",
     "output_type": "stream",
     "text": [
      "Descompactação finalizada!\n"
     ]
    }
   ],
   "source": [
    "import zipfile\n",
    "import os\n",
    "\n",
    "if not os.path.exists('dataset_ssvep/BCI-SSVEP_Database_Aceves/'):\n",
    "    zip_ref = zipfile.ZipFile('dataset_ssvep/BCI-SSVEP_Database_Aceves.zip', 'r')\n",
    "    zip_ref.extractall('dataset_ssvep/BCI-SSVEP_Database_Aceves/')\n",
    "    zip_ref.close()\n",
    "    print('Descompactação finalizada!')\n",
    "else:\n",
    "    print('Descompactação já realizada anteriormente!')"
   ]
  },
  {
   "cell_type": "markdown",
   "metadata": {},
   "source": [
    "### Carregando dados de um arquivo do dataset"
   ]
  },
  {
   "cell_type": "code",
   "execution_count": 34,
   "metadata": {},
   "outputs": [],
   "source": [
    "### ACHO QUE VAI SER MAIS SIMPLES, POIS O ARQUIVO É SÓ .CSV\n",
    "\n",
    "import numpy as np\n",
    "import csv\n",
    "\n",
    "\n",
    "def load_data(ssvep_file): #ssvep_file = .csv   \n",
    "    with open(ssvep_file, newline='') as csvfile:\n",
    "        readCSV = csv.reader(csvfile)\n",
    "        trials = list() #nao sei se to usando certo esses nomes (trials, chs e values)\n",
    "        chs = list()\n",
    "        values = list()\n",
    "        begin = 0\n",
    "        for row in readCSV:\n",
    "            if row[0] == '0': #controle para não pegar os primeiros dados que começam errado\n",
    "                begin = 1\n",
    "            if begin == 1:\n",
    "                for i in range (2, 16):\n",
    "                    values.append(float(row[i]))\n",
    "                chs.append(values)\n",
    "                values = list()\n",
    "                if row[0] == '128':\n",
    "                    trials.append(chs)\n",
    "                    chs = list()\n",
    "        data = np.array(trials)\n",
    "        return data"
   ]
  },
  {
   "cell_type": "code",
   "execution_count": 35,
   "metadata": {},
   "outputs": [],
   "source": [
    "#exibindo ...."
   ]
  },
  {
   "cell_type": "code",
   "execution_count": 36,
   "metadata": {},
   "outputs": [
    {
     "name": "stdout",
     "output_type": "stream",
     "text": [
      "SSVEP file shape:  (21, 129, 14)\n"
     ]
    }
   ],
   "source": [
    "data = load_data('dataset_ssvep/BCI-SSVEP_Database_Aceves/A001SB1_1.csv')\n",
    "print('SSVEP file shape: ', data.shape) #pelo shape deve estar certo..."
   ]
  },
  {
   "cell_type": "markdown",
   "metadata": {},
   "source": [
    "### Aplicando filtro temporal"
   ]
  },
  {
   "cell_type": "code",
   "execution_count": null,
   "metadata": {},
   "outputs": [],
   "source": [
    "from copy import deepcopy\n",
    "\n",
    "raw2 = deepcopy(raw)\n",
    "raw2.notch_filter(np.arange(60, 121, 60), fir_design='firwin')\n",
    "raw2.filter(5., 50., fir_design='firwin')\n",
    "raw2.plot_psd(area_mode='range')\n",
    "print()\n",
    "\n",
    "raw3 = deepcopy(raw)\n",
    "raw3.notch_filter(np.arange(60, 121, 60), fir_design='firwin', trans_bandwidth=6.7, filter_length='996ms')\n",
    "raw3.filter(5., 50., fir_design='firwin', l_trans_bandwidth=3.35, filter_length='996ms')\n",
    "raw3.plot_psd(area_mode='range')\n",
    "\n",
    "fig = plt.figure()\n",
    "\n",
    "ax = fig.add_subplot(1, 2, 1)\n",
    "ax.plot(np.linspace(0, 1, 256), raw.get_data()[0])\n",
    "plt.title('Não filtrado')\n",
    "plt.xlabel('tempo (s)')\n",
    "plt.ylabel('Dados EEG (mV/cm²)')\n",
    "\n",
    "ax = fig.add_subplot(1, 2, 2)\n",
    "ax.plot(np.linspace(0, 1, 256), raw3.get_data()[0])\n",
    "plt.title('Filtrado')\n",
    "plt.xlabel('tempo (s)')\n",
    "print()"
   ]
  },
  {
   "cell_type": "markdown",
   "metadata": {},
   "source": [
    "### Aplicando filtro espacial"
   ]
  },
  {
   "cell_type": "code",
   "execution_count": null,
   "metadata": {},
   "outputs": [],
   "source": [
    "from sklearn.decomposition import PCA\n",
    "from mne import set_eeg_reference as car\n",
    "\n",
    "pca = PCA(n_components=1)\n",
    "projected = pca.fit_transform(raw3.get_data().T).T\n",
    "print(projected.shape)\n",
    "\n",
    "info = mne.create_info(ch_names=('x',), sfreq=256)\n",
    "new_raw = mne.io.RawArray(projected, info)\n",
    "\n",
    "plt.plot(np.linspace(0, 1, 256), new_raw.get_data()[0])\n",
    "plt.xlabel('tempo (s)')\n",
    "plt.ylabel('Dados EEG (mV/cm²)')\n",
    "\n",
    "chs_P = [c for c in raw.ch_names if c[0] == 'p']\n",
    "print(chs_P)\n",
    "\n",
    "inst, data = car(raw, ref_channels=chs_P)\n",
    "print(data.shape)\n",
    "print(inst)\n",
    "plt.plot(np.linspace(0, 1, 256), data)\n",
    "plt.xlabel('tempo (s)')\n",
    "plt.ylabel('Dados EEG (mV/cm²)')"
   ]
  }
 ],
 "metadata": {
  "kernelspec": {
   "display_name": "Python 3",
   "language": "python",
   "name": "python3"
  },
  "language_info": {
   "codemirror_mode": {
    "name": "ipython",
    "version": 3
   },
   "file_extension": ".py",
   "mimetype": "text/x-python",
   "name": "python",
   "nbconvert_exporter": "python",
   "pygments_lexer": "ipython3",
   "version": "3.6.7"
  }
 },
 "nbformat": 4,
 "nbformat_minor": 2
}
