{
 "cells": [
  {
   "cell_type": "markdown",
   "metadata": {},
   "source": [
    "### Carregando datasets\n",
    "\n",
    "Assim como foi feito na etapa anterior(load_eeg), precisamos carregar os datasets para realizar o pré-processamento. O trecho a seguir é bem semelhante ao utilizado em load_eeg, tendo como principal diferença a geração da média entre os arquivos das diversas pastas, isso é feito para diminuir a quantidade de entrada no programa mantendo a confiabilidade dos dados e também para formatar os dados de forma que possam ser inseridos nas funções de pré-processamento(que exigem arrays 2D)."
   ]
  },
  {
   "cell_type": "code",
   "execution_count": 1,
   "metadata": {},
   "outputs": [],
   "source": [
    "from re import search\n",
    "import numpy as np\n",
    "from subprocess import getoutput as gop\n",
    "import glob\n",
    "import pandas as pd\n",
    "import csv\n",
    "\n",
    "# identificando pastas\n",
    "folders = {\n",
    "    'small': 'dataset/small',\n",
    "    'large_train': 'dataset/large_train',\n",
    "    'large_test': 'dataset/large_test',\n",
    "}\n",
    "\n",
    "def load_data(dataset):\n",
    "    ch_names = []\n",
    "    create_ch_name = False\n",
    "    \n",
    "    data_dir = gop('ls {}'.format(folders[dataset])).split('\\n')\n",
    "    # 1ª dimensão dos dados contendo os sujeitos\n",
    "    subjects = list()\n",
    "    subjects_alc = list()\n",
    "    subjects_ctrl = list()\n",
    "    \n",
    "    for types in data_dir:\n",
    "        files = gop('ls {}/{}'.format(folders[dataset], types)).split('\\n')\n",
    "        # 2ª dimensão dos dados contendo as sessões (trials)\n",
    "        trials = list()\n",
    "        is_alc = True\n",
    "        \n",
    "        for f in files:\n",
    "            arquivo = open('{}/{}/{}'.format(folders[dataset], types, f))\n",
    "            text = arquivo.readlines()\n",
    "            \n",
    "            alc = search('co2a', text[0])\n",
    "            ctrl = search('co2c', text[0])\n",
    "            \n",
    "            if ctrl:\n",
    "                is_alc = False\n",
    "            # 3ª dimensão dos dados contendo os canais (eletrodos)\n",
    "            chs = list()\n",
    "            # 4ª dimensão dos dados contendo os valores em milivolts\n",
    "            values = list()\n",
    "            for line in text:\n",
    "                t = search('(?P<ch_name>\\w{1,3}) chan \\d{1,2}', line)\n",
    "                p = search('^\\d{1,3}\\ \\w{1,3}\\ \\d{1,3}\\ (?P<value>.+$)', line)\n",
    "                                    \n",
    "                if p:\n",
    "                    values.append(float(p.group('value')))\n",
    "                # mudou para outro eletrodo\n",
    "                elif t:\n",
    "                    if values:\n",
    "                        chs.append(values)\n",
    "                        values = list()\n",
    "                    if not create_ch_name:\n",
    "                        ch_names.append(t.group('ch_name').lower())\n",
    "            \n",
    "            create_ch_name = True\n",
    "            chs.append(values)\n",
    "            trials.append(chs)\n",
    "            arquivo.close()\n",
    "            \n",
    "        if is_alc:\n",
    "            subjects_alc.append(trials)\n",
    "            md_alc = np.average(trials, axis=0)\n",
    "        else:\n",
    "            subjects_ctrl.append(trials)\n",
    "            md_ctrl = np.average(trials, axis=0)\n",
    "            \n",
    "    data_alc = np.array(subjects_alc)\n",
    "    data_ctrl = np.array(subjects_ctrl)\n",
    "    \n",
    "#     data.tofile('./dataset_csv/small_data.csv', sep=',', newline='')\n",
    "        \n",
    "    return data_alc, md_alc, data_ctrl, md_ctrl, ch_names"
   ]
  },
  {
   "cell_type": "markdown",
   "metadata": {},
   "source": [
    "### Exibindo dados carregados\n",
    "\n",
    "Aqui exibimos a forma(shape) dos dados carregados(large train e large test) que representam respectivamente: o número de experimentos, triagens, canais e amostras.\n",
    "Também exibimos o shape das médias desses dados, como a média é feita entre os experimentos e triagens temos um shape que representa: canais, amostras."
   ]
  },
  {
   "cell_type": "code",
   "execution_count": 2,
   "metadata": {},
   "outputs": [
    {
     "name": "stdout",
     "output_type": "stream",
     "text": [
      "**** Large Train ****\n",
      "\n",
      "Alcoólatras:  (10, 30, 64, 256)\n",
      "Controle:  (10, 30, 64, 256)\n",
      "Média dos Alcoólatras:  (64, 256)\n",
      "Média Controle:  (64, 256)\n",
      "\n",
      "**** Fim Large Train ****\n",
      "\n",
      "**** Large Test ****\n",
      "\n",
      "Alcoólatras:  (10, 30, 64, 256)\n",
      "Controle:  (10, 30, 64, 256)\n",
      "Média dos Alcoólatras:  (64, 256)\n",
      "Média Controle:  (64, 256)\n",
      "\n",
      "**** Fim Large Train ****\n",
      "\n"
     ]
    }
   ],
   "source": [
    "lg_train_alc, md_alc_train, lg_train_ctrl, md_ctrl_train, ch_names = load_data('large_train')\n",
    "print('**** Large Train ****\\n')\n",
    "print('Alcoólatras: ', lg_train_alc.shape)\n",
    "print('Controle: ', lg_train_ctrl.shape)\n",
    "print('Média dos Alcoólatras: ', md_alc_train.shape)\n",
    "print('Média Controle: ', md_ctrl_train.shape)\n",
    "print('\\n**** Fim Large Train ****\\n')\n",
    "\n",
    "lg_test_alc, md_alc_test, lg_test_ctrl, md_ctrl_test, ch_names = load_data('large_test')\n",
    "print('**** Large Test ****\\n')\n",
    "print('Alcoólatras: ', lg_test_alc.shape)\n",
    "print('Controle: ', lg_test_ctrl.shape)\n",
    "print('Média dos Alcoólatras: ', md_alc_test.shape)\n",
    "print('Média Controle: ', md_ctrl_test.shape)\n",
    "print('\\n**** Fim Large Train ****\\n')"
   ]
  },
  {
   "cell_type": "markdown",
   "metadata": {},
   "source": [
    "### Plotando gráfico nos dois domínios\n",
    "\n",
    "Na sequência vamos plotar os dados médios dos eletrodos do arquivo preparado para visualizá-los no domínio do tempo e da frequência. Após visualizar, serão aplicados inicialmente filtros temporais e em seguida filtros espaciais. Aplicamos os filtros para que possamos observar com mais clareza a diferença entre os dados do dataset(alcoólicos e controle) e assim, decidir como proceder para a etapa de classificação."
   ]
  },
  {
   "cell_type": "code",
   "execution_count": 3,
   "metadata": {},
   "outputs": [
    {
     "ename": "ModuleNotFoundError",
     "evalue": "No module named 'mne'",
     "output_type": "error",
     "traceback": [
      "\u001b[1;31m---------------------------------------------------------------------------\u001b[0m",
      "\u001b[1;31mModuleNotFoundError\u001b[0m                       Traceback (most recent call last)",
      "\u001b[1;32m<ipython-input-3-0b492408bb18>\u001b[0m in \u001b[0;36m<module>\u001b[1;34m()\u001b[0m\n\u001b[0;32m      2\u001b[0m \u001b[1;33m\u001b[0m\u001b[0m\n\u001b[0;32m      3\u001b[0m \u001b[1;32mimport\u001b[0m \u001b[0mmatplotlib\u001b[0m\u001b[1;33m.\u001b[0m\u001b[0mpyplot\u001b[0m \u001b[1;32mas\u001b[0m \u001b[0mplt\u001b[0m\u001b[1;33m\u001b[0m\u001b[0m\n\u001b[1;32m----> 4\u001b[1;33m \u001b[1;32mimport\u001b[0m \u001b[0mmne\u001b[0m\u001b[1;33m\u001b[0m\u001b[0m\n\u001b[0m\u001b[0;32m      5\u001b[0m \u001b[1;33m\u001b[0m\u001b[0m\n\u001b[0;32m      6\u001b[0m \u001b[1;32mdef\u001b[0m \u001b[0mgraphTimeFrequency\u001b[0m\u001b[1;33m(\u001b[0m\u001b[0mdata\u001b[0m\u001b[1;33m,\u001b[0m \u001b[0mch_names\u001b[0m\u001b[1;33m)\u001b[0m\u001b[1;33m:\u001b[0m\u001b[1;33m\u001b[0m\u001b[0m\n",
      "\u001b[1;31mModuleNotFoundError\u001b[0m: No module named 'mne'"
     ]
    }
   ],
   "source": [
    "%matplotlib inline\n",
    "\n",
    "import matplotlib.pyplot as plt\n",
    "import mne\n",
    "\n",
    "def graphTimeFrequency(data, ch_names):\n",
    "    # primeira sessão, primeiro trial\n",
    "    x = data\n",
    "    print(x.shape)\n",
    "\n",
    "    ch_names = ch_names\n",
    "    ch_types = ['eeg'] * 64\n",
    "    info = mne.create_info(ch_names=ch_names, sfreq=256, ch_types=ch_types)\n",
    "    raw = mne.io.RawArray(x, info)\n",
    "\n",
    "    # São removidos aqui alguns canais que não parecem ser informações de eletrodos EEG\n",
    "    raw.drop_channels(['x', 'nd', 'y'])\n",
    "\n",
    "    # Aplicamos a montagem do padrão 10-20 para todos os eletrodos\n",
    "    montage = mne.channels.read_montage('standard_1020')\n",
    "    raw.set_montage(montage)\n",
    "\n",
    "    # Neste primeiro gráfico mostramos o sinal de um eletrodo no domínio do tempo\n",
    "    plt.plot(np.linspace(0, 1, 256), raw.get_data()[0])\n",
    "    plt.xlabel('tempo (s)')\n",
    "    plt.ylabel('Dados EEG (mV/cm²)')\n",
    "\n",
    "    # Aqui mostramos todos os 61 eletrodos que representam dados EEG\n",
    "    raw.plot_psd()\n",
    "    print()"
   ]
  },
  {
   "cell_type": "code",
   "execution_count": null,
   "metadata": {},
   "outputs": [],
   "source": [
    "print(\"*** Large Train ****\\n\")\n",
    "print(\"ALCOOÓLATRAS\")\n",
    "graphTimeFrequency(md_alc_train, ch_names)\n",
    "print(\"CONTROLE\")\n",
    "graphTimeFrequency(md_ctrl_train, ch_names)\n",
    "print(\"*** Fim Large Train ****\\n\")\n",
    "\n",
    "print(\"*** Large Test ****\\n\")\n",
    "print(\"ALCOOÓLATRAS\")\n",
    "graphTimeFrequency(md_alc_test, ch_names)\n",
    "\n",
    "print(\"CONTROLE\")\n",
    "graphTimeFrequency(md_ctrl_test, ch_names)\n",
    "print(\"*** Fim Large Test ****\\n\")"
   ]
  },
  {
   "cell_type": "code",
   "execution_count": null,
   "metadata": {},
   "outputs": [],
   "source": []
  }
 ],
 "metadata": {
  "kernelspec": {
   "display_name": "Python 3",
   "language": "python",
   "name": "python3"
  },
  "language_info": {
   "codemirror_mode": {
    "name": "ipython",
    "version": 3
   },
   "file_extension": ".py",
   "mimetype": "text/x-python",
   "name": "python",
   "nbconvert_exporter": "python",
   "pygments_lexer": "ipython3",
   "version": "3.6.4"
  }
 },
 "nbformat": 4,
 "nbformat_minor": 2
}
