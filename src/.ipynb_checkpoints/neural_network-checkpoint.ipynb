{
 "cells": [
  {
   "cell_type": "markdown",
   "metadata": {},
   "source": [
    "## Utilizando Redes Neurais para classificar a base de dados EEG\n",
    "\n",
    "<p> Uma rede neural tem como objetivo imitar como o cérebro humano aprende. Ela é um mecanismo de aprendizado de máquina muito poderoso, à medida que uma tarefa se torna complicada, há vários perceptrons que formam uma rede que transmitem informações entre si. Um perceptron representa um neurônio. O modelo do Perceptron foi desenvolvido nas décadas de 1950 e 1960 pelo cientista Frank Rosenblatt. Hoje é mais utilizado outros modelos de neurônnios artificias, mas esse seria um modelo básico, como mostra a figura 1, onde o perceptron rece várias entradas, x1; x2; x3 e produz uma única saída binária. </p>\n",
    "\n",
    "![modelo basico perceptron](https://i0.wp.com/deeplearningbook.com.br/wp-content/uploads/2017/12/perceptron.png?w=280) <center> *figura 1 - Modelo básico de um perceptron* </center>\n",
    "\n",
    "<p> No modelo da figura 1, o perceptron possui três entradas, x1; x2; x3, para calcular a saída, Rosenblatt introduziu pesos, w1; w2; w3, números reais que representam a importância das entradas para a saída, assim a entrada x1 possui peso w1, x2 peso w2 e x3 peso w3. A saída do neurônio é binária, 0 ou 1, e é determinada pela soma ponderada, Σjwjxj, menor ou maior do que algum valor limiar (threshold), como mostra a figura 2. </p>\n",
    "\n",
    "![termo algébrico](https://i2.wp.com/deeplearningbook.com.br/wp-content/uploads/2017/12/output.png?w=362) <center> *figura 2 - Modelo algébrico da saída de um perceptron* </center>\n",
    "\n",
    "<p> O modelo da figura 1 seria um modelo básico de um perceptron, mas atualmente é utilizado modelos mais completos que obtem melhores resultados, como o modelo da figura 3. O modelo da figura 1, simplesmente utiliza uma somatória do produto dos pesos com as entradas, mas esse é um modelo muito simples para determinados problemas. No modelo da figura 3, a função de ativação g(.) usará a saída u em uma função, e o resultado do perceptron será a saída da função g. O simbolo Θ representa o viés (bias), que são utilizados no lugar do threshold, os bias são ajustadas da mesma forma que os pesos sinápticos, o bias permite que um neurônio apresente a saída não nula ainda que todas as suas entradas sejam nulas. O bias representa o quão fácil é fazer o perceptron produzir um 1 (disparar). Um perceptron com um viés muito grande tem uma tendência a emitir um 1, e muito pequeno de emitir 0. </p>\n",
    "\n",
    "![modelo matemático neuronio](https://i0.wp.com/deeplearningbook.com.br/wp-content/uploads/2018/01/neuronio.jpeg?resize=300%2C137)  <center> *figura 3 - Modelo de perceptron com bia e função de ativação* </center>\n",
    "\n",
    "<p>O novo modelo utiliza uma função de soma um pouco diferente, ainda é realizado a soma dos produtos dos pesos com as entradas, mas no fim é somado o valor do viés, como mostra a figura 4.</p>\n",
    "\n",
    "![modelo matemático neuronio](https://i1.wp.com/deeplearningbook.com.br/wp-content/uploads/2017/12/formula.png?w=295)  <center> *figura 4 - Modelo algébrico com o viés* </center>\n",
    "\n",
    "<p>Um único perceptron não consegue resolver os problemas grandes, para isso é necessário uma rede de perceptrons. Há três categorias de tipos de redes de perceptrons (Arquiteturas):<p>\n",
    "<ol>\n",
    "    <li>Redes Neurais Feed-Forward: São mais comuns, a primeira camada é a entrada e a última camada é a saída, se houver uma camada oculta entre as duas, é chamado de redes neurais profundas(Deep Learning). A rede calcula uma série de transformação que altera a semelhança entre os casos, as atividades dos neurônios em cada camada são uma função não-linear das atividades na camada anterior. </li>\n",
    "    <li>Redes Recorrentes: Essa rede é utilizada quando para se obter o valor de saída atual é necessário analisar o valor do passado. Essa rede é equivalente a redes muito profundas com uma camada oculta por fatia de tempo; exceto que eles usam os mesmos pesos em cada fatia de tempo e recebem entrada em cada fatia. Eles têm a capacidade de lembrar informações em seu estado oculto por um longo período de tempo, mas é muito difícil treiná-las para usar esse potencial. Podem possuir uma dinâmica complicada, sendo difíceis de treinar, mas são mais biologicamente realistas.</li>\n",
    "    <li>Redes Conectadas Simetricamente: São como as redes recorrentes mas elas possuem o mesmo peso em ambas as direções.  As redes conectadas simetricamente sem unidades ocultas são chamadas de “Redes Hopfield”. As redes conectadas simetricamente com unidades ocultas são chamadas de “Máquinas de Boltzmann”. </li>\n",
    "</ol>    \n",
    "\n",
    "O trabalho atual se enquadra na categoria Redes Neurais Feed-Forward, a arquitetura utilizada é a Redes Multilayer Perceptrons (MLP), a rede MLP é composta por mais de um perceptron, e possui uma camada de entrada, uma de saída que toma uma decisão sobre a entrada, e entre as duas pode haver várias camadas ocultas. O MLP é muito utilizado em problemas de aprendizagem supervisionados, ele treina um conjunto de pares entrada-saída e aprende a modelar a correlação entre as entradas e saídas, no treinamento é realizado o ajuste dos parâmetros, pesos e bias da rede para conseguir minimizar o erro.  O backpropagation é usado para fazer os ajustes dos pesos e de bias em relação ao erro, e o próprio erro pode ser medido de várias maneiras, inclusive pelo erro quadrático médio.\n",
    "\n",
    "\n",
    "Para a implementação do projeto foi utilizado a biblioteca Keras, entre outras que são importadas no primeiro bloco do código."
   ]
  },
  {
   "cell_type": "code",
   "execution_count": 29,
   "metadata": {},
   "outputs": [],
   "source": [
    "#importando bibliotecas necessárias no projeto\n",
    "from sklearn import svm\n",
    "from keras.models import Sequential\n",
    "from keras.utils import plot_model\n",
    "from keras import regularizers, optimizers\n",
    "from sklearn.model_selection import train_test_split\n",
    "from keras.layers import Dense, Dropout, Activation\n",
    "from keras.optimizers import SGD\n",
    "from sklearn.metrics import classification_report, confusion_matrix\n",
    "from tensorflow.python.client import device_lib\n",
    "from sklearn.svm import SVC\n",
    "from keras import utils as np_utils\n",
    "from keras import backend\n",
    "import tensorflow as tf\n",
    "import numpy as np\n",
    "import csv\n",
    "import matplotlib.pyplot as plt\n",
    "from re import search\n",
    "import numpy as np\n",
    "from subprocess import getoutput as gop\n",
    "import glob\n",
    "import pandas as pd\n",
    "import csv\n",
    "import random"
   ]
  },
  {
   "cell_type": "markdown",
   "metadata": {},
   "source": [
    "### Carregando conjuntos de treino e teste\n",
    "\n",
    "Para utilizar a rede neural, é necessário ter lido os dados, o código do primeiro bloco abaixo lê os dados da base de dados 'large'. Os dados são separados em dois vetores, sendo um de alcoólatras e outro de não alcoólatras."
   ]
  },
  {
   "cell_type": "code",
   "execution_count": 30,
   "metadata": {},
   "outputs": [],
   "source": [
    "# identificando pastas\n",
    "folders = {\n",
    "    'small': 'dataset/small',\n",
    "    'large_train': 'dataset/large_train',\n",
    "    'large_test': 'dataset/large_test',\n",
    "}\n",
    "\n",
    "def load_data(dataset):\n",
    "    ch_names = []\n",
    "    create_ch_name = False\n",
    "    \n",
    "    data_dir = gop('ls {}'.format(folders[dataset])).split('\\n')\n",
    "    # 1ª dimensão dos dados contendo os sujeitos\n",
    "    subjects = list()\n",
    "    subjects_alc = list()\n",
    "    subjects_ctrl = list()\n",
    "    \n",
    "    for types in data_dir:\n",
    "        files = gop('ls {}/{}'.format(folders[dataset], types)).split('\\n')\n",
    "        # 2ª dimensão dos dados contendo as sessões (trials)\n",
    "        trials = list()\n",
    "        is_alc = True\n",
    "        \n",
    "        for f in files:\n",
    "            arquivo = open('{}/{}/{}'.format(folders[dataset], types, f))\n",
    "            text = arquivo.readlines()\n",
    "            \n",
    "            alc = search('co2a', text[0])\n",
    "            ctrl = search('co2c', text[0])\n",
    "            \n",
    "            if ctrl:\n",
    "                is_alc = False\n",
    "            # 3ª dimensão dos dados contendo os canais (eletrodos)\n",
    "            chs = list()\n",
    "            # 4ª dimensão dos dados contendo os valores em milivolts\n",
    "            values = list()\n",
    "            for line in text:\n",
    "                t = search('(?P<ch_name>\\w{1,3}) chan \\d{1,2}', line)\n",
    "                p = search('^\\d{1,3}\\ \\w{1,3}\\ \\d{1,3}\\ (?P<value>.+$)', line)\n",
    "                                    \n",
    "                if p:\n",
    "                    values.append(float(p.group('value')))\n",
    "                # mudou para outro eletrodo\n",
    "                elif t:\n",
    "                    if values:\n",
    "                        chs.append(values)\n",
    "                        values = list()\n",
    "                    if not create_ch_name:\n",
    "                        ch_names.append(t.group('ch_name').lower())\n",
    "            \n",
    "            create_ch_name = True\n",
    "            chs.append(values)\n",
    "            trials.append(chs)\n",
    "            arquivo.close()\n",
    "            \n",
    "        if is_alc:\n",
    "            subjects_alc.append(trials)\n",
    "            md_alc = np.average(trials, axis=0)\n",
    "        else:\n",
    "            subjects_ctrl.append(trials)\n",
    "            md_ctrl = np.average(trials, axis=0)\n",
    "            \n",
    "    data_alc = np.array(subjects_alc)\n",
    "    data_ctrl = np.array(subjects_ctrl)\n",
    "    \n",
    "#     data.tofile('./dataset_csv/small_data.csv', sep=',', newline='')   \n",
    "    return data_alc, md_alc, data_ctrl, md_ctrl, ch_names\n"
   ]
  },
  {
   "cell_type": "code",
   "execution_count": 31,
   "metadata": {},
   "outputs": [],
   "source": [
    "data_alc, md_alc, data_ctrl, md_ctrl, ch_names = load_data('large_train')\n",
    "data_alc_test, md_alc_test, data_ctrl_test, md_ctrl_test, ch_names_test = load_data('large_test')"
   ]
  },
  {
   "cell_type": "markdown",
   "metadata": {},
   "source": [
    "O próximo passo é criar os vetores de resultados, os dados lidos no vetor md_alc, representam os alcoólatras, logo nesse vetor de saída será inserido True, no vetor md_ctrl será inserido o valor False no vetor de saída, pois estes representão os não alcoólatras. O próximo passo é concatenar os dados dos dois vetores, md_alc e md_ctrl, pois a rede neural precisa de um vetor de entrada somente, com isso foi criado o vetor md_total que representa a concatenação dos dois. As mesmas etapas são feitas tanto para treino quanto para teste."
   ]
  },
  {
   "cell_type": "code",
   "execution_count": 32,
   "metadata": {},
   "outputs": [],
   "source": [
    "#Treino\n",
    "\n",
    "y_md_alc = []\n",
    "count = 0\n",
    "for i in range(len(md_alc)):\n",
    "    y_md_alc.insert(count, True)\n",
    "    count += 1\n",
    "\n",
    "y_md_ctrl = []\n",
    "count = 0\n",
    "for i in range(len(md_ctrl)):\n",
    "    y_md_ctrl.insert(count, False)\n",
    "    count += 1\n",
    "\n",
    "md_total = np.concatenate((md_alc, md_ctrl))\n",
    "y_md_total = np.concatenate((y_md_alc, y_md_ctrl))\n",
    "\n",
    "#Teste\n",
    "\n",
    "y_md_alc_test = []\n",
    "count = 0\n",
    "for i in range(len(md_alc_test)):\n",
    "    y_md_alc_test.insert(count, True)\n",
    "    count += 1\n",
    "\n",
    "y_md_ctrl_test = []\n",
    "count = 0\n",
    "for i in range(len(md_ctrl_test)):\n",
    "    y_md_ctrl_test.insert(count, False)\n",
    "    count += 1\n",
    "    \n",
    "md_total_test = np.concatenate((md_alc_test, md_ctrl_test))\n",
    "y_md_total_test = np.concatenate((y_md_alc_test, y_md_ctrl_test))\n",
    "\n",
    "\n",
    "md_array = []\n",
    "md_total_com_y = []\n",
    "count = 0\n",
    "count_md = 0\n",
    "i = 0\n",
    "for item in md_total:\n",
    "    for subitem in item:\n",
    "        md_total_com_y.insert(count, subitem)\n",
    "        count += 1\n",
    "    md_total_com_y.insert(count, y_md_total[i])\n",
    "    count = 0\n",
    "    md_array.insert(count_md, md_total_com_y)\n",
    "    md_total_com_y = []\n",
    "    count_md += 1\n",
    "    i += 1\n",
    "\n",
    "    \n",
    "test_array = []\n",
    "test_total_com_y = []\n",
    "count = 0\n",
    "count_test = 0\n",
    "i = 0\n",
    "for item in md_total_test:\n",
    "    for subitem in item:\n",
    "        test_total_com_y.insert(count, subitem)\n",
    "        count += 1\n",
    "    test_total_com_y.insert(count, y_md_total_test[i])\n",
    "    count = 0\n",
    "    test_array.insert(count_test, test_total_com_y)\n",
    "    test_total_com_y = []\n",
    "    count_test += 1\n",
    "    i += 1"
   ]
  },
  {
   "cell_type": "markdown",
   "metadata": {},
   "source": [
    "O problema agora é que todos os alcoólatras estão nas primeiras posições, e depois estão todos os não alcoólatras. Para inserir esses dados na rede neural, é necessário misturar os alcoólatras com os não alcoólatras, fazendo um 'shuffle' no vetor. Depois é separado os vetores com os dados e com os resultados."
   ]
  },
  {
   "cell_type": "code",
   "execution_count": 33,
   "metadata": {},
   "outputs": [],
   "source": [
    "random.shuffle(md_array)\n",
    "random.shuffle(test_array)\n",
    "\n",
    "index = 0\n",
    "y_train = []\n",
    "for i in range(len(md_array)):\n",
    "    result = md_array[i][256] #Vetor de resultados\n",
    "    y_train.insert(index, result)\n",
    "    index += 1\n",
    "\n",
    "for i in range(len(md_array)):\n",
    "    del(md_array[i][256])\n",
    "\n",
    "x_train = md_array\n",
    "y_train = y_train\n",
    "\n",
    "index = 0\n",
    "y_test = []\n",
    "for i in range(len(test_array)):\n",
    "    result = test_array[i][256] #Vetor de resultados\n",
    "    y_test.insert(index, result)\n",
    "    index += 1\n",
    "\n",
    "for i in range(len(test_array)):\n",
    "    del(test_array[i][256])\n",
    "\n",
    "x_test = test_array\n",
    "y_test = y_test"
   ]
  },
  {
   "cell_type": "markdown",
   "metadata": {},
   "source": [
    "### Modelo de rede neural\n",
    "\n",
    "A rede neural terá como entrada 256 elementos, onde cada elemento significa um sinal obtido pelo eletrodo no período de 1 segundo. Será utilizado 3 camadas, uma de entrada, uma oculta e uma de saída. Além de ter o arquivo de teste, será separado 25% dos dados de treino para validação.\n",
    "\n",
    "#### Função de ativação\n",
    "De acordo com as entradas que os neurônios recebem, eles podem alterar o valor para saída ou não, quem controla isso são as funções de ativação, elas permitem que pequenas mudanças nos pesos e bias causem apenas uma pequena alteração na saída. A função de ativação permitirá que uma rede de neurônios artificiais aprenda. A função de ativação utilizada foi a Relu, ela é a função de ativação mais utilizada em redes neurais hoje em dia, comparando com outras funções, ela foi quem obteve o melhor valor de acerto.\n",
    "\n",
    "#### Overfitting\n",
    "\n",
    "O overfitting ocorre quando o conjunto de treino se ajusta muito bem, mas se mostra ineficaz para prever os resultados do conjunto de teste.\n",
    "O overfitting ocorreu quando utilizamos neurônios igual ou menores que 250 na segunda camada.\n",
    "![código overfit](https://uploaddeimagens.com.br/images/002/122/533/full/overfitting.PNG?1558331287)  <center> *figura 1 - Resultado do overfitting* </center>"
   ]
  },
  {
   "cell_type": "code",
   "execution_count": 40,
   "metadata": {},
   "outputs": [
    {
     "name": "stdout",
     "output_type": "stream",
     "text": [
      "Train on 96 samples, validate on 32 samples\n",
      "Epoch 1/5\n",
      "96/96 [==============================] - 2s 19ms/step - loss: 0.4543 - acc: 0.8438 - val_loss: 0.0491 - val_acc: 1.0000\n",
      "Epoch 2/5\n",
      "96/96 [==============================] - 0s 834us/step - loss: 0.0469 - acc: 0.9896 - val_loss: 0.0225 - val_acc: 1.0000\n",
      "Epoch 3/5\n",
      "96/96 [==============================] - 0s 730us/step - loss: 0.0100 - acc: 1.0000 - val_loss: 0.0608 - val_acc: 0.9688\n",
      "Epoch 4/5\n",
      "96/96 [==============================] - 0s 1ms/step - loss: 0.0064 - acc: 1.0000 - val_loss: 0.2382 - val_acc: 0.9688\n",
      "Epoch 5/5\n",
      "96/96 [==============================] - 0s 1ms/step - loss: 0.0034 - acc: 1.0000 - val_loss: 0.1070 - val_acc: 0.9688\n",
      "128/128 [==============================] - 0s 359us/step\n"
     ]
    },
    {
     "data": {
      "image/png": "[encoded data removed]",
      "text/plain": [
       "<matplotlib.figure.Figure at 0x1e5453070b8>"
      ]
     },
     "metadata": {},
     "output_type": "display_data"
    },
    {
     "data": {
      "image/png": "[encoded data removed]",
      "text/plain": [
       "<matplotlib.figure.Figure at 0x1e5452fa9b0>"
      ]
     },
     "metadata": {},
     "output_type": "display_data"
    }
   ],
   "source": [
    "x_train = np.array(x_train)\n",
    "y_train = np.array(y_train)\n",
    "x_test = np.array(x_test)\n",
    "y_test = np.array(y_test)\n",
    "\n",
    "model = Sequential()\n",
    "model.add(Dense(units=500, activation='relu', input_dim=256))\n",
    "model.add(Dense(units=250, activation='relu'))\n",
    "model.add(Dense(1, activation='sigmoid'))\n",
    "\n",
    "model.compile(loss='binary_crossentropy',\n",
    "              optimizer='adam',\n",
    "              metrics=['accuracy'])\n",
    "\n",
    "\n",
    "history = model.fit(x_train, y_train, validation_split=0.25, epochs=5, batch_size=16, verbose=1)\n",
    "\n",
    "loss_and_metrics = model.evaluate(x_test, y_test, batch_size=16)\n",
    "#print(\"\\n Taxa de acerto: %.2f%%\" % (loss_and_metrics[1]*100))\n",
    "\n",
    "plt.plot(history.history['acc'])\n",
    "plt.plot(history.history['val_acc'])\n",
    "plt.title('Model accuracy')\n",
    "plt.ylabel('Accuracy')\n",
    "plt.xlabel('Epoch')\n",
    "plt.legend(['Train', 'Test'], loc='upper left')\n",
    "plt.show()\n",
    "\n",
    "#print(\"\\n Função de Custo: %.2f%%\" % (loss_and_metrics[0]))\n",
    "plt.plot(history.history['loss'])\n",
    "plt.plot(history.history['val_loss'])\n",
    "plt.title('Model loss')\n",
    "plt.ylabel('Loss')\n",
    "plt.xlabel('Epoch')\n",
    "plt.legend(['Train', 'Test'], loc='upper left')\n",
    "plt.show()\n"
   ]
  },
  {
   "cell_type": "markdown",
   "metadata": {},
   "source": [
    "#### Regularização\n",
    "\n",
    "A regularização pode ajudar a reduzir o overfitting. Analisaremos os efeitos de três técnicas de regularização no \n",
    "código, a técnica L1, L2 e Dropout. A intenção da regularização é fazer com que a rede prefira aprender pesos pequenos. Os pesos grandes só são permitidos se melhorarem bastante a primeira parte da função de custo, ou seja, ela tenta encontrar pequenos pesos e minimizar a função de custo original.\n",
    "\n",
    "Tanto na técnica L1 quanto na L2 o resultado é a diminuição dos valores dos pesos, mas a maneira como os pesos diminuem é diferente. Quando um peso específico tem uma grande magnitude, a regularização L1 reduz o peso muito menos do que a Regularização L2, mas, quando |w| é pequeno, a regularização L1 reduz o peso muito mais do que a regularização L2, assim a regularização L1 tende a concentrar o peso da rede em um número relativamente pequeno de conexões de alta importância, enquanto os outros pesos são direcionados para zero.\n",
    "\n",
    "##### L1\n",
    "\n",
    "Configurações utilizadas no modelo de regularização L1:"
   ]
  },
  {
   "cell_type": "code",
   "execution_count": 58,
   "metadata": {
    "scrolled": true
   },
   "outputs": [
    {
     "name": "stdout",
     "output_type": "stream",
     "text": [
      "Train on 96 samples, validate on 32 samples\n",
      "Epoch 1/5\n",
      "96/96 [==============================] - 3s 31ms/step - loss: 608.3151 - acc: 0.6146 - val_loss: 296.4863 - val_acc: 0.6250\n",
      "Epoch 2/5\n",
      "96/96 [==============================] - 0s 1ms/step - loss: 154.4193 - acc: 0.4688 - val_loss: 112.7526 - val_acc: 0.3438\n",
      "Epoch 3/5\n",
      "96/96 [==============================] - 0s 932us/step - loss: 63.5495 - acc: 0.3229 - val_loss: 77.6507 - val_acc: 0.4688\n",
      "Epoch 4/5\n",
      "96/96 [==============================] - 0s 1ms/step - loss: 37.1212 - acc: 0.3333 - val_loss: 69.8995 - val_acc: 0.4688\n",
      "Epoch 5/5\n",
      "96/96 [==============================] - 0s 1ms/step - loss: 24.2544 - acc: 0.3958 - val_loss: 62.8607 - val_acc: 0.4688\n",
      "128/128 [==============================] - 0s 669us/step\n"
     ]
    },
    {
     "data": {
      "image/png": "[encoded data removed]",
      "text/plain": [
       "<matplotlib.figure.Figure at 0x1e61adbc2e8>"
      ]
     },
     "metadata": {},
     "output_type": "display_data"
    }
   ],
   "source": [
    "model = Sequential()\n",
    "model.add(Dense(units=500, activation='relu', input_dim=256, activity_regularizer=regularizers.l1(0.1)))\n",
    "model.add(Dense(units=250, activation='relu', activity_regularizer=regularizers.l1(0.1)))\n",
    "model.add(Dense(1, activation='sigmoid'))\n",
    "\n",
    "model.compile(loss='binary_crossentropy',\n",
    "              optimizer='adam',\n",
    "              metrics=['accuracy'])\n",
    "\n",
    "\n",
    "history = model.fit(x_train, y_train, validation_split=0.25, epochs=5, batch_size=16, verbose=1)\n",
    "\n",
    "loss_and_metrics = model.evaluate(x_test, y_test, batch_size=16)\n"
   ]
  },
  {
   "cell_type": "markdown",
   "metadata": {},
   "source": [
    "Para a regularização L1 com o valor de 0,01 ainda não foi suficiente para realizar a regularização do overfitting, como mostra a figura 2:\n",
    "\n",
    "![código overfit](https://uploaddeimagens.com.br/images/002/122/539/full/l1_001.PNG?1558332348)  <center> *figura 2 - Regularização L1 - 0,001* </center>\n",
    "\n",
    "Foi obtido uma regularização L1 do overfitting utilizando como parâmetro o valor 0,1, como mostra a figura 3:\n",
    "\n",
    "![código overfit](https://uploaddeimagens.com.br/images/002/122/540/full/l1-0_1.PNG?1558332818)  <center> *figura 3 - Regularização L1 - 0,1* </center>"
   ]
  },
  {
   "cell_type": "markdown",
   "metadata": {},
   "source": [
    "##### L2 \n",
    "\n",
    "Configurações utilizadas no modelo de regularização L2:"
   ]
  },
  {
   "cell_type": "code",
   "execution_count": 60,
   "metadata": {
    "scrolled": true
   },
   "outputs": [
    {
     "name": "stdout",
     "output_type": "stream",
     "text": [
      "Train on 96 samples, validate on 32 samples\n",
      "Epoch 1/5\n",
      "96/96 [==============================] - 4s 37ms/step - loss: 2312.0570 - acc: 0.6042 - val_loss: 920.4148 - val_acc: 0.5625\n",
      "Epoch 2/5\n",
      "96/96 [==============================] - 0s 1ms/step - loss: 358.4454 - acc: 0.4479 - val_loss: 248.4121 - val_acc: 0.4375\n",
      "Epoch 3/5\n",
      "96/96 [==============================] - 0s 2ms/step - loss: 98.2423 - acc: 0.3750 - val_loss: 206.0007 - val_acc: 0.4688\n",
      "Epoch 4/5\n",
      "96/96 [==============================] - 0s 1ms/step - loss: 59.2476 - acc: 0.3646 - val_loss: 220.0461 - val_acc: 0.5312\n",
      "Epoch 5/5\n",
      "96/96 [==============================] - 0s 1ms/step - loss: 43.2322 - acc: 0.3750 - val_loss: 226.5304 - val_acc: 0.5625\n",
      "128/128 [==============================] - 0s 623us/step\n"
     ]
    },
    {
     "data": {
      "image/png": "[encoded data removed]",
      "text/plain": [
       "<matplotlib.figure.Figure at 0x1e61adc3cf8>"
      ]
     },
     "metadata": {},
     "output_type": "display_data"
    }
   ],
   "source": [
    "model = Sequential()\n",
    "model.add(Dense(units=500, activation='relu', input_dim=256, activity_regularizer=regularizers.l2(0.1)))\n",
    "model.add(Dense(units=250, activation='relu', activity_regularizer=regularizers.l2(0.1)))\n",
    "model.add(Dense(1, activation='sigmoid'))\n",
    "\n",
    "model.compile(loss='binary_crossentropy',\n",
    "              optimizer='adam',\n",
    "              metrics=['accuracy'])\n",
    "\n",
    "\n",
    "history = model.fit(x_train, y_train, validation_split=0.25, epochs=5, batch_size=16, verbose=1)\n",
    "\n",
    "loss_and_metrics = model.evaluate(x_test, y_test, batch_size=16)\n"
   ]
  },
  {
   "cell_type": "markdown",
   "metadata": {},
   "source": [
    "Para a regularização L2 com o valor de 0,01 ainda não foi suficiente para realizar a regularização do overfitting, como mostra a figura 4:\n",
    "\n",
    "![código overfit](https://uploaddeimagens.com.br/images/002/122/541/full/l2-0_01.PNG?1558333369)  <center> *figura 4 - Regularização L2 - 0,01* </center>\n",
    "\n",
    "Foi obtido uma regularização L2 do overfitting utilizando como parâmetro o valor 0,1, como mostra a figura 5:\n",
    "\n",
    "![código overfit](https://uploaddeimagens.com.br/images/002/122/546/full/l2-0_1.PNG?1558333520)  <center> *figura 5 - Regularização L2 - 0,1* </center>"
   ]
  }
 ],
 "metadata": {
  "kernelspec": {
   "display_name": "Python 3",
   "language": "python",
   "name": "python3"
  },
  "language_info": {
   "codemirror_mode": {
    "name": "ipython",
    "version": 3
   },
   "file_extension": ".py",
   "mimetype": "text/x-python",
   "name": "python",
   "nbconvert_exporter": "python",
   "pygments_lexer": "ipython3",
   "version": "3.6.4"
  }
 },
 "nbformat": 4,
 "nbformat_minor": 2
}
