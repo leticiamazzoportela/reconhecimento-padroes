{
 "cells": [
  {
   "cell_type": "markdown",
   "metadata": {},
   "source": [
    "### Carregando dataset"
   ]
  },
  {
   "cell_type": "code",
   "execution_count": 5,
   "metadata": {},
   "outputs": [
    {
     "name": "stdout",
     "output_type": "stream",
     "text": [
      "Dataset já baixado!\n"
     ]
    }
   ],
   "source": [
    "from urllib.request import urlopen, urlretrieve\n",
    "import os\n",
    "\n",
    "urls = {\n",
    "    'ssvep': 'https://archive.ics.uci.edu/ml/machine-learning-databases/00457/BCI-SSVEP_Database_Aceves.zip'\n",
    "}\n",
    "\n",
    "# verifica se o diretório dos datasets existe\n",
    "if not os.path.exists('dataset_ssvep/'):\n",
    "    os.mkdir('dataset_ssvep/')\n",
    "    for k, v in urls.items():\n",
    "        fn = v.split('/')[-1]\n",
    "        print('Baixando:', fn, '...')\n",
    "        urlretrieve(v, './dataset_ssvep/{}'.format(fn))\n",
    "    print('Downlod do dataset concluído!')\n",
    "else:\n",
    "    print('Dataset já baixado!')"
   ]
  },
  {
   "cell_type": "code",
   "execution_count": 6,
   "metadata": {},
   "outputs": [
    {
     "name": "stdout",
     "output_type": "stream",
     "text": [
      "Descompactação já realizada anteriormente!\n"
     ]
    }
   ],
   "source": [
    "import zipfile\n",
    "import os\n",
    "\n",
    "if not os.path.exists('dataset_ssvep/BCI-SSVEP_Database_Aceves/'):\n",
    "    zip_ref = zipfile.ZipFile('dataset_ssvep/BCI-SSVEP_Database_Aceves.zip', 'r')\n",
    "    zip_ref.extractall('dataset_ssvep/BCI-SSVEP_Database_Aceves/')\n",
    "    zip_ref.close()\n",
    "    print('Descompactação finalizada!')\n",
    "else:\n",
    "    print('Descompactação já realizada anteriormente!')"
   ]
  },
  {
   "cell_type": "markdown",
   "metadata": {},
   "source": [
    "### Carregando dados de um arquivo do dataset"
   ]
  },
  {
   "cell_type": "code",
   "execution_count": null,
   "metadata": {},
   "outputs": [],
   "source": [
    "### ACHO QUE VAI SER MAIS SIMPLES, POIS O ARQUIVO É SÓ .CSV\n",
    "\n",
    "from re import search\n",
    "import numpy as np\n",
    "from subprocess import getoutput as gop\n",
    "\n",
    "ch_names = []\n",
    "create_ch_name = False\n",
    "\n",
    "small = 'dataset/small'\n",
    "# carregando pasta \"small\"\n",
    "small_dir = gop('ls {}'.format(small)).split('\\n')\n",
    "# 1ª dimensão dos dados contendo os sujeitos. Ex.: C_1, a_m, etc\n",
    "subjects = list()\n",
    "for types in small_dir:\n",
    "    files = gop('ls {}/{}'.format(small, types)).split('\\n')\n",
    "    # 2ª dimensão dos dados contendo as sessões (trials)\n",
    "    trials = list()\n",
    "    for f in files:\n",
    "        arquivo = open('{}/{}/{}'.format(small, types, f))\n",
    "        text = arquivo.readlines()\n",
    "        # 3ª dimensão dos dados contendo os canais (eletrodos)\n",
    "        chs = list()\n",
    "        # 4ª dimensão dos dados contendo os valores em milivolts\n",
    "        values = list()\n",
    "        for line in text:\n",
    "            # ex: \"# FP1 chan 0\"\n",
    "            t = search('(?P<ch_name>\\w{1,3}) chan \\d{1,2}', line)\n",
    "            # ex: \"0 FP1 0 -8.921\"\n",
    "            p = search('^\\d{1,2}\\ \\w{1,3}\\ \\d{1,3}\\ (?P<value>.+$)', line)\n",
    "            if p:\n",
    "                values.append(float(p.group('value')))\n",
    "            # mudou para outro eletrodo\n",
    "            elif t:\n",
    "                if values:\n",
    "                    chs.append(values)\n",
    "                    values = list()\n",
    "                if not create_ch_name:\n",
    "                    ch_names.append(t.group('ch_name').lower())\n",
    "        create_ch_name = True\n",
    "        chs.append(values)\n",
    "        trials.append(chs)\n",
    "        arquivo.close()\n",
    "    subjects.append(trials)\n",
    "data = np.array(subjects)\n",
    "print(data.shape)"
   ]
  },
  {
   "cell_type": "markdown",
   "metadata": {},
   "source": [
    "### Aplicando filtro temporal"
   ]
  },
  {
   "cell_type": "code",
   "execution_count": null,
   "metadata": {},
   "outputs": [],
   "source": [
    "from copy import deepcopy\n",
    "\n",
    "raw2 = deepcopy(raw)\n",
    "raw2.notch_filter(np.arange(60, 121, 60), fir_design='firwin')\n",
    "raw2.filter(5., 50., fir_design='firwin')\n",
    "raw2.plot_psd(area_mode='range')\n",
    "print()\n",
    "\n",
    "raw3 = deepcopy(raw)\n",
    "raw3.notch_filter(np.arange(60, 121, 60), fir_design='firwin', trans_bandwidth=6.7, filter_length='996ms')\n",
    "raw3.filter(5., 50., fir_design='firwin', l_trans_bandwidth=3.35, filter_length='996ms')\n",
    "raw3.plot_psd(area_mode='range')\n",
    "\n",
    "fig = plt.figure()\n",
    "\n",
    "ax = fig.add_subplot(1, 2, 1)\n",
    "ax.plot(np.linspace(0, 1, 256), raw.get_data()[0])\n",
    "plt.title('Não filtrado')\n",
    "plt.xlabel('tempo (s)')\n",
    "plt.ylabel('Dados EEG (mV/cm²)')\n",
    "\n",
    "ax = fig.add_subplot(1, 2, 2)\n",
    "ax.plot(np.linspace(0, 1, 256), raw3.get_data()[0])\n",
    "plt.title('Filtrado')\n",
    "plt.xlabel('tempo (s)')\n",
    "print()"
   ]
  },
  {
   "cell_type": "markdown",
   "metadata": {},
   "source": [
    "### Aplicando filtro espacial"
   ]
  },
  {
   "cell_type": "code",
   "execution_count": null,
   "metadata": {},
   "outputs": [],
   "source": [
    "from sklearn.decomposition import PCA\n",
    "from mne import set_eeg_reference as car\n",
    "\n",
    "pca = PCA(n_components=1)\n",
    "projected = pca.fit_transform(raw3.get_data().T).T\n",
    "print(projected.shape)\n",
    "\n",
    "info = mne.create_info(ch_names=('x',), sfreq=256)\n",
    "new_raw = mne.io.RawArray(projected, info)\n",
    "\n",
    "plt.plot(np.linspace(0, 1, 256), new_raw.get_data()[0])\n",
    "plt.xlabel('tempo (s)')\n",
    "plt.ylabel('Dados EEG (mV/cm²)')\n",
    "\n",
    "chs_P = [c for c in raw.ch_names if c[0] == 'p']\n",
    "print(chs_P)\n",
    "\n",
    "inst, data = car(raw, ref_channels=chs_P)\n",
    "print(data.shape)\n",
    "print(inst)\n",
    "plt.plot(np.linspace(0, 1, 256), data)\n",
    "plt.xlabel('tempo (s)')\n",
    "plt.ylabel('Dados EEG (mV/cm²)')"
   ]
  }
 ],
 "metadata": {
  "kernelspec": {
   "display_name": "Python 3",
   "language": "python",
   "name": "python3"
  },
  "language_info": {
   "codemirror_mode": {
    "name": "ipython",
    "version": 3
   },
   "file_extension": ".py",
   "mimetype": "text/x-python",
   "name": "python",
   "nbconvert_exporter": "python",
   "pygments_lexer": "ipython3",
   "version": "3.7.1"
  }
 },
 "nbformat": 4,
 "nbformat_minor": 2
}
